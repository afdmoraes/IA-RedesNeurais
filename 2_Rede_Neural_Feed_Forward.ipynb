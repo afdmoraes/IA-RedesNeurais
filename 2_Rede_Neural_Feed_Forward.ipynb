{
  "nbformat": 4,
  "nbformat_minor": 0,
  "metadata": {
    "colab": {
      "provenance": [],
      "include_colab_link": true
    },
    "kernelspec": {
      "name": "python3",
      "display_name": "Python 3"
    },
    "language_info": {
      "name": "python"
    }
  },
  "cells": [
    {
      "cell_type": "markdown",
      "metadata": {
        "id": "view-in-github",
        "colab_type": "text"
      },
      "source": [
        "<a href=\"https://colab.research.google.com/github/afdmoraes/IA-RedesNeurais/blob/main/2_Rede_Neural_Feed_Forward.ipynb\" target=\"_parent\"><img src=\"https://colab.research.google.com/assets/colab-badge.svg\" alt=\"Open In Colab\"/></a>"
      ]
    },
    {
      "cell_type": "markdown",
      "metadata": {
        "id": "vVq4lHYxVMHn"
      },
      "source": [
        "# Problema\n",
        "\n",
        "Vamos treinar a rede neural de forma que ela possa prever o valor de saída correto quando fornecida com um novo conjunto de dados."
      ]
    },
    {
      "cell_type": "code",
      "metadata": {
        "id": "DUiKrqr6lS3b"
      },
      "source": [
        "import numpy as np"
      ],
      "execution_count": null,
      "outputs": []
    },
    {
      "cell_type": "code",
      "metadata": {
        "id": "a_bKnkwDV2Yl"
      },
      "source": [
        "#Matrix (4x3)\n",
        "treinamento_entrada = np.array([[0, 0, 1],\n",
        "                                [1, 1, 1],\n",
        "                                [1, 0, 1],\n",
        "                                [0, 1, 1]])"
      ],
      "execution_count": null,
      "outputs": []
    },
    {
      "cell_type": "code",
      "metadata": {
        "colab": {
          "base_uri": "https://localhost:8080/"
        },
        "id": "julllhp8WcGx",
        "outputId": "cca81eef-f6c8-461c-bde4-53fdb7fc3a12"
      },
      "source": [
        "type(treinamento_entrada)"
      ],
      "execution_count": null,
      "outputs": [
        {
          "output_type": "execute_result",
          "data": {
            "text/plain": [
              "numpy.ndarray"
            ]
          },
          "metadata": {},
          "execution_count": 3
        }
      ]
    },
    {
      "cell_type": "code",
      "metadata": {
        "colab": {
          "base_uri": "https://localhost:8080/"
        },
        "id": "_KKP96buWeYO",
        "outputId": "dbee8c83-3a79-4b88-ab33-57ea9aa16beb"
      },
      "source": [
        "treinamento_entrada"
      ],
      "execution_count": null,
      "outputs": [
        {
          "output_type": "execute_result",
          "data": {
            "text/plain": [
              "array([[0, 0, 1],\n",
              "       [1, 1, 1],\n",
              "       [1, 0, 1],\n",
              "       [0, 1, 1]])"
            ]
          },
          "metadata": {},
          "execution_count": 4
        }
      ]
    },
    {
      "cell_type": "code",
      "metadata": {
        "id": "LG4LwJu6WhFC"
      },
      "source": [
        "treinamento_resultado = np.array([[0, 1, 1, 0]]).T"
      ],
      "execution_count": null,
      "outputs": []
    },
    {
      "cell_type": "code",
      "metadata": {
        "colab": {
          "base_uri": "https://localhost:8080/"
        },
        "id": "yFrFuayBXC-_",
        "outputId": "e1134f58-9dee-49d4-997b-ae8b1f156daf"
      },
      "source": [
        "treinamento_resultado"
      ],
      "execution_count": null,
      "outputs": [
        {
          "output_type": "execute_result",
          "data": {
            "text/plain": [
              "array([[0],\n",
              "       [1],\n",
              "       [1],\n",
              "       [0]])"
            ]
          },
          "metadata": {},
          "execution_count": 6
        }
      ]
    },
    {
      "cell_type": "code",
      "metadata": {
        "id": "VntX-WmqXOQ0"
      },
      "source": [
        "np.random.seed(1)"
      ],
      "execution_count": null,
      "outputs": []
    },
    {
      "cell_type": "code",
      "metadata": {
        "id": "FDEXg80GXtR2"
      },
      "source": [
        "pesos_sinapticos = 2 * np.random.random((3,1)) - 1"
      ],
      "execution_count": null,
      "outputs": []
    },
    {
      "cell_type": "code",
      "metadata": {
        "colab": {
          "base_uri": "https://localhost:8080/"
        },
        "id": "OiHm5p7uX7pY",
        "outputId": "5577c95b-f656-440d-d031-a89ca5e4edb3"
      },
      "source": [
        "pesos_sinapticos"
      ],
      "execution_count": null,
      "outputs": [
        {
          "output_type": "execute_result",
          "data": {
            "text/plain": [
              "array([[-0.16595599],\n",
              "       [ 0.44064899],\n",
              "       [-0.99977125]])"
            ]
          },
          "metadata": {},
          "execution_count": 9
        }
      ]
    },
    {
      "cell_type": "code",
      "metadata": {
        "id": "ITeTwLFwX81b"
      },
      "source": [
        "def sigmoid(x):\n",
        "  return 1/(1 + np.exp(-x))"
      ],
      "execution_count": null,
      "outputs": []
    },
    {
      "cell_type": "code",
      "metadata": {
        "id": "TYGhD0spYsVv"
      },
      "source": [
        "def sigmoid_derivate(x):\n",
        "  return x * (1-x)"
      ],
      "execution_count": null,
      "outputs": []
    },
    {
      "cell_type": "code",
      "metadata": {
        "id": "Xr57EX-HZaCl"
      },
      "source": [
        "for i in range(10000):\n",
        "  input_layer = treinamento_entrada\n",
        "  output = sigmoid(np.dot(input_layer, pesos_sinapticos))\n",
        "\n",
        "  erro = treinamento_resultado - output\n",
        "  ajuste = erro * sigmoid_derivate(output)\n",
        "\n",
        "  pesos_sinapticos += np.dot(input_layer.T, ajuste)"
      ],
      "execution_count": null,
      "outputs": []
    },
    {
      "cell_type": "code",
      "metadata": {
        "colab": {
          "base_uri": "https://localhost:8080/"
        },
        "id": "ckD2XbM2Z3d-",
        "outputId": "f5e5db8f-19d0-4ae0-9b44-c1d637a86dc7"
      },
      "source": [
        "pesos_sinapticos"
      ],
      "execution_count": null,
      "outputs": [
        {
          "output_type": "execute_result",
          "data": {
            "text/plain": [
              "array([[ 9.67401695],\n",
              "       [-0.20784111],\n",
              "       [-4.63015063]])"
            ]
          },
          "metadata": {},
          "execution_count": 17
        }
      ]
    },
    {
      "cell_type": "code",
      "metadata": {
        "colab": {
          "base_uri": "https://localhost:8080/"
        },
        "id": "XXa_acDYbwpN",
        "outputId": "44ce5375-4295-4dfe-8b23-d83d36f74d2a"
      },
      "source": [
        "print(output)"
      ],
      "execution_count": null,
      "outputs": [
        {
          "output_type": "stream",
          "name": "stdout",
          "text": [
            "[[0.00553519]\n",
            " [0.9954841 ]\n",
            " [0.99632083]\n",
            " [0.00451045]]\n"
          ]
        }
      ]
    },
    {
      "cell_type": "code",
      "metadata": {
        "id": "Qi3-Ec8Hb_7a"
      },
      "source": [
        "0, 1, 1, 0"
      ],
      "execution_count": null,
      "outputs": []
    }
  ]
}