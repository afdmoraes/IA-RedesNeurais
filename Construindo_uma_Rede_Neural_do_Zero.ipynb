{
  "nbformat": 4,
  "nbformat_minor": 0,
  "metadata": {
    "colab": {
      "provenance": [],
      "include_colab_link": true
    },
    "kernelspec": {
      "name": "python3",
      "display_name": "Python 3"
    },
    "language_info": {
      "name": "python"
    }
  },
  "cells": [
    {
      "cell_type": "markdown",
      "metadata": {
        "id": "view-in-github",
        "colab_type": "text"
      },
      "source": [
        "<a href=\"https://colab.research.google.com/github/afdmoraes/IA-RedesNeurais/blob/main/Construindo_uma_Rede_Neural_do_Zero.ipynb\" target=\"_parent\"><img src=\"https://colab.research.google.com/assets/colab-badge.svg\" alt=\"Open In Colab\"/></a>"
      ]
    },
    {
      "cell_type": "code",
      "metadata": {
        "id": "PspQeM9zO77G"
      },
      "source": [
        "entrada = [1, 2, 3]"
      ],
      "execution_count": null,
      "outputs": []
    },
    {
      "cell_type": "code",
      "metadata": {
        "colab": {
          "base_uri": "https://localhost:8080/"
        },
        "id": "fQoCLTfTPYB_",
        "outputId": "1353d23d-f3e8-4f1d-9360-00a9846e2841"
      },
      "source": [
        "print(entrada)"
      ],
      "execution_count": null,
      "outputs": [
        {
          "output_type": "stream",
          "name": "stdout",
          "text": [
            "[1, 2, 3]\n"
          ]
        }
      ]
    },
    {
      "cell_type": "code",
      "metadata": {
        "colab": {
          "base_uri": "https://localhost:8080/"
        },
        "id": "smIp5OpVPcNK",
        "outputId": "8dfc6e33-8b09-4a3f-c27d-036de2bd150f"
      },
      "source": [
        "type(entrada)"
      ],
      "execution_count": null,
      "outputs": [
        {
          "output_type": "execute_result",
          "data": {
            "text/plain": [
              "list"
            ]
          },
          "metadata": {},
          "execution_count": 3
        }
      ]
    },
    {
      "cell_type": "code",
      "metadata": {
        "colab": {
          "base_uri": "https://localhost:8080/"
        },
        "id": "x-3IAYYRPefe",
        "outputId": "f2072dbb-faf3-4d03-ef48-fce68f68cb59"
      },
      "source": [
        "entrada[0]"
      ],
      "execution_count": null,
      "outputs": [
        {
          "output_type": "execute_result",
          "data": {
            "text/plain": [
              "1"
            ]
          },
          "metadata": {},
          "execution_count": 4
        }
      ]
    },
    {
      "cell_type": "code",
      "metadata": {
        "colab": {
          "base_uri": "https://localhost:8080/"
        },
        "id": "CtMvp8XqPs7h",
        "outputId": "7e05516e-25af-40b6-cbe1-f9f49e43c9d5"
      },
      "source": [
        "entrada[1]"
      ],
      "execution_count": null,
      "outputs": [
        {
          "output_type": "execute_result",
          "data": {
            "text/plain": [
              "2"
            ]
          },
          "metadata": {},
          "execution_count": 5
        }
      ]
    },
    {
      "cell_type": "code",
      "metadata": {
        "id": "Zf-eYoSmPvB6"
      },
      "source": [
        "peso = [0.2, 0.8, -0.5]"
      ],
      "execution_count": null,
      "outputs": []
    },
    {
      "cell_type": "code",
      "metadata": {
        "colab": {
          "base_uri": "https://localhost:8080/"
        },
        "id": "n47WXO9aP_Yl",
        "outputId": "6988aa95-ef48-4ca0-93e4-6b248c61eac2"
      },
      "source": [
        "type(peso)"
      ],
      "execution_count": null,
      "outputs": [
        {
          "output_type": "execute_result",
          "data": {
            "text/plain": [
              "list"
            ]
          },
          "metadata": {},
          "execution_count": 7
        }
      ]
    },
    {
      "cell_type": "code",
      "metadata": {
        "id": "hMJuaEJwQgjI"
      },
      "source": [
        "bias = 2"
      ],
      "execution_count": null,
      "outputs": []
    },
    {
      "cell_type": "code",
      "metadata": {
        "id": "hCG5zwpCQAUD"
      },
      "source": [
        "saida = (entrada[0] * peso[0] + entrada[1] * peso[1] + entrada[2] * peso[2] + bias)"
      ],
      "execution_count": null,
      "outputs": []
    },
    {
      "cell_type": "code",
      "metadata": {
        "colab": {
          "base_uri": "https://localhost:8080/"
        },
        "id": "1R4k-fo8QkVC",
        "outputId": "e3f2361b-380c-4aec-9f26-c306dbe7accf"
      },
      "source": [
        "print(saida)"
      ],
      "execution_count": null,
      "outputs": [
        {
          "output_type": "stream",
          "name": "stdout",
          "text": [
            "2.3\n"
          ]
        }
      ]
    },
    {
      "cell_type": "markdown",
      "metadata": {
        "id": "L4q1Xrw4Rfk1"
      },
      "source": [
        "#Layer"
      ]
    },
    {
      "cell_type": "code",
      "metadata": {
        "id": "5nvM55ZIQlqK"
      },
      "source": [
        "entradas = [1, 2, 3, 2.5]"
      ],
      "execution_count": null,
      "outputs": []
    },
    {
      "cell_type": "code",
      "metadata": {
        "id": "qMZut9VNRuMg"
      },
      "source": [
        "pesos1 = [0.2, 0.8, -0.5, 1]\n",
        "pesos2 = [0.5, -0.91, 0.26, -0.5]\n",
        "pesos3 = [-0.26, -0.27, 0.17, 0.87]"
      ],
      "execution_count": null,
      "outputs": []
    },
    {
      "cell_type": "code",
      "metadata": {
        "id": "AtbANmeQSQPS"
      },
      "source": [
        "bias1 = 2\n",
        "bias2 = 3\n",
        "bias3 = 0.5"
      ],
      "execution_count": null,
      "outputs": []
    },
    {
      "cell_type": "code",
      "metadata": {
        "id": "aFm8mw7rSaw6"
      },
      "source": [
        "saidas = [\n",
        "          #Neuronio 1\n",
        "          entradas[0] * pesos1[0] + entradas[1] * pesos1[1] + entradas[2] * pesos1[2] + entradas[3] * pesos1[3] + bias1,\n",
        "\n",
        "          #Neuronio2\n",
        "          entradas[0] * pesos2[0] + entradas[1] * pesos2[1] + entradas[2] * pesos2[2] + entradas[3] * pesos2[3] + bias2,\n",
        "\n",
        "          #Neuronio3\n",
        "          entradas[0] * pesos3[0] + entradas[1] * pesos3[1] + entradas[2] * pesos3[2] + entradas[3] * pesos3[3] + bias3\n",
        "]"
      ],
      "execution_count": null,
      "outputs": []
    },
    {
      "cell_type": "code",
      "metadata": {
        "colab": {
          "base_uri": "https://localhost:8080/"
        },
        "id": "pmg2In_UTpRS",
        "outputId": "81d6c15d-b121-4173-b8a2-1ecbdd94c34a"
      },
      "source": [
        "print(saidas)"
      ],
      "execution_count": null,
      "outputs": [
        {
          "output_type": "stream",
          "name": "stdout",
          "text": [
            "[4.8, 1.21, 2.385]\n"
          ]
        }
      ]
    },
    {
      "cell_type": "code",
      "metadata": {
        "id": "6aSNrPnyT2Jq"
      },
      "source": [],
      "execution_count": null,
      "outputs": []
    }
  ]
}